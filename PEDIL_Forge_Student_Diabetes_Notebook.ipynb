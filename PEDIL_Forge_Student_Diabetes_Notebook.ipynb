{
 "cells": [
  {
   "cell_type": "markdown",
   "id": "46926ee3",
   "metadata": {
    "id": "46926ee3"
   },
   "source": [
    "# PEDIL-Forge Day 2: Machine Learning for Public Health\n",
    "### Hands-On Tutorial – Predicting Diabetes with BRFSS 2011 Data"
   ]
  },
  {
   "cell_type": "code",
   "execution_count": null,
   "id": "0950c716",
   "metadata": {
    "executionInfo": {
     "elapsed": 8114,
     "status": "ok",
     "timestamp": 1749155296603,
     "user": {
      "displayName": "Dennis Makau",
      "userId": "08005319466022450153"
     },
     "user_tz": 240
    },
    "id": "0950c716"
   },
   "outputs": [],
   "source": [
    "import pandas as pd\n",
    "import numpy as np\n",
    "import matplotlib.pyplot as plt\n",
    "import seaborn as sns\n",
    "from sklearn.model_selection import train_test_split\n",
    "from sklearn.ensemble import RandomForestClassifier\n",
    "from sklearn.metrics import classification_report, confusion_matrix"
   ]
  },
  {
   "cell_type": "code",
   "execution_count": null,
   "id": "7c805709",
   "metadata": {
    "colab": {
     "base_uri": "https://localhost:8080/",
     "height": 1000
    },
    "executionInfo": {
     "elapsed": 24804,
     "status": "ok",
     "timestamp": 1749155323016,
     "user": {
      "displayName": "Dennis Makau",
      "userId": "08005319466022450153"
     },
     "user_tz": 240
    },
    "id": "7c805709",
    "outputId": "997afd9b-4c01-4fb8-bab1-95cef2e3f0d0"
   },
   "outputs": [],
   "source": [
    "# Load dataset\n",
    "from google.colab import files\n",
    "uploaded = files.upload()\n",
    "\n",
    "import io\n",
    "df = pd.read_csv(io.BytesIO(uploaded['brfss_diabetes_clean.csv']))\n",
    "df.head()"
   ]
  },
  {
   "cell_type": "code",
   "execution_count": null,
   "id": "6pM8rcUPfHlD",
   "metadata": {
    "colab": {
     "base_uri": "https://localhost:8080/"
    },
    "executionInfo": {
     "elapsed": 61,
     "status": "ok",
     "timestamp": 1749183924944,
     "user": {
      "displayName": "Dennis Makau",
      "userId": "08005319466022450153"
     },
     "user_tz": 240
    },
    "id": "6pM8rcUPfHlD",
    "outputId": "6e7f8ffc-3008-4940-a9f2-d34da5368390"
   },
   "outputs": [],
   "source": [
    "print(X_test_ros.columns.tolist())\n"
   ]
  },
  {
   "cell_type": "code",
   "execution_count": null,
   "id": "96945b32",
   "metadata": {
    "executionInfo": {
     "elapsed": 11,
     "status": "ok",
     "timestamp": 1749184233946,
     "user": {
      "displayName": "Dennis Makau",
      "userId": "08005319466022450153"
     },
     "user_tz": 240
    },
    "id": "96945b32"
   },
   "outputs": [],
   "source": [
    "# Preprocess data\n",
    "X = df.drop('has_diabetes', axis=1)\n",
    "y = df['has_diabetes']\n",
    "\n",
    "# Convert categorical variables to numeric\n",
    "X_encoded = X.copy()\n",
    "\n",
    "# Example: Convert 'sex' to numeric (Male=0, Female=1)\n",
    "X_encoded['sex'] = X_encoded['sex'].map({'Male': 0, 'Female': 1})\n",
    "\n",
    "# You can repeat this if you have other categorical columns\n",
    "# X_encoded = pd.get_dummies(X_encoded)  # Optional: for more complex encoding\n",
    "X_encoded = pd.get_dummies(X, columns=['sex', 'income_level', 'education_level'], drop_first=True)\n",
    "\n",
    "# Now split using encoded data\n",
    "X_train, X_test, y_train, y_test = train_test_split(X_encoded, y, test_size=0.2, random_state=42)\n"
   ]
  },
  {
   "cell_type": "code",
   "execution_count": null,
   "id": "07143e53",
   "metadata": {
    "colab": {
     "base_uri": "https://localhost:8080/",
     "height": 79
    },
    "executionInfo": {
     "elapsed": 211,
     "status": "ok",
     "timestamp": 1749155638443,
     "user": {
      "displayName": "Dennis Makau",
      "userId": "08005319466022450153"
     },
     "user_tz": 240
    },
    "id": "07143e53",
    "outputId": "94418577-6614-4527-b7cb-4f05ca90287b"
   },
   "outputs": [],
   "source": [
    "# Train model\n",
    "model = RandomForestClassifier(n_estimators=100, random_state=42)\n",
    "model.fit(X_train, y_train)"
   ]
  },
  {
   "cell_type": "code",
   "execution_count": null,
   "id": "71e4304b",
   "metadata": {
    "colab": {
     "base_uri": "https://localhost:8080/"
    },
    "executionInfo": {
     "elapsed": 5,
     "status": "ok",
     "timestamp": 1749155652844,
     "user": {
      "displayName": "Dennis Makau",
      "userId": "08005319466022450153"
     },
     "user_tz": 240
    },
    "id": "71e4304b",
    "outputId": "8eb78dbc-cc22-40fa-8d31-3907d7be7f39"
   },
   "outputs": [],
   "source": [
    "# Evaluate model\n",
    "y_pred = model.predict(X_test)\n",
    "print(\"Classification Report:\")\n",
    "print(classification_report(y_test, y_pred))"
   ]
  },
  {
   "cell_type": "code",
   "execution_count": null,
   "id": "80c15512",
   "metadata": {
    "colab": {
     "base_uri": "https://localhost:8080/",
     "height": 472
    },
    "executionInfo": {
     "elapsed": 350,
     "status": "ok",
     "timestamp": 1749155720856,
     "user": {
      "displayName": "Dennis Makau",
      "userId": "08005319466022450153"
     },
     "user_tz": 240
    },
    "id": "80c15512",
    "outputId": "35bdb7be-8d1e-4795-bbf3-ed18b255b8f4"
   },
   "outputs": [],
   "source": [
    "# Plot confusion matrix\n",
    "conf_matrix = confusion_matrix(y_test, y_pred)\n",
    "sns.heatmap(conf_matrix, annot=True, fmt='d', cmap='Reds')\n",
    "plt.title(\"Confusion Matrix\")\n",
    "plt.xlabel(\"Predicted\")\n",
    "plt.ylabel(\"Actual\")\n",
    "plt.show()"
   ]
  },
  {
   "cell_type": "markdown",
   "id": "d7Q1UyJYN2Ok",
   "metadata": {
    "id": "d7Q1UyJYN2Ok"
   },
   "source": [
    "We have a fantastic model. Let's interpret, publish and make decisions bases on this model. Right?\n",
    "\n",
    "# **Maybe not!** ***Why?***\n",
    "\n",
    "Model barely catches Class 0!\n",
    "   * Only 1 out of 9 non-diabetic cases was predicted correctly.\n",
    "   * Most predictions go to the majority class (diabetes).\n",
    "   * Accuracy is inflated because the dataset is ~95% diabetic."
   ]
  },
  {
   "cell_type": "markdown",
   "id": "klTfwlDuPNT5",
   "metadata": {
    "id": "klTfwlDuPNT5"
   },
   "source": [
    "# **Key points to note**\n",
    "\n",
    "   1. Imbalanced datasets fool accuracy → Show how it fails to capture minority class.\n",
    "   2. Precision vs Recall trade-off → Would a diabetes screening tool that misses most non-diabetics be acceptable?\n",
    "   3. Macro vs Weighted Averages → Macro average treats both classes equally.\n",
    "\n",
    "# *So what can we do?*\n",
    "   1. Stratified sampling to balance classes\n",
    "   2.   Class weights in models: ***model = RandomForestClassifier(class_weight='balanced')***\n",
    "   3. SMOTE or undersampling"
   ]
  },
  {
   "cell_type": "code",
   "execution_count": null,
   "id": "3qrmD1Z8NZv_",
   "metadata": {
    "colab": {
     "base_uri": "https://localhost:8080/"
    },
    "executionInfo": {
     "elapsed": 212,
     "status": "ok",
     "timestamp": 1749179313599,
     "user": {
      "displayName": "Dennis Makau",
      "userId": "08005319466022450153"
     },
     "user_tz": 240
    },
    "id": "3qrmD1Z8NZv_",
    "outputId": "9a792d3e-e2be-4524-cb6a-d78239e6febe"
   },
   "outputs": [],
   "source": [
    "# Rebuild model with class weights\n",
    "model_weighted = RandomForestClassifier(n_estimators=100, random_state=42, class_weight='balanced')\n",
    "model_weighted.fit(X_train, y_train)\n",
    "y_pred_weighted = model_weighted.predict(X_test)\n",
    "\n",
    "# Evaluation\n",
    "print(\"Classification Report (with class_weight='balanced'):\")\n",
    "print(classification_report(y_test, y_pred_weighted))"
   ]
  },
  {
   "cell_type": "markdown",
   "id": "dKSWt8lhRvdp",
   "metadata": {
    "id": "dKSWt8lhRvdp"
   },
   "source": [
    "# What Changed?\n",
    "  * Precision for Class 0 improved slightly → Model makes slightly fewer false positives.\n",
    "  * Recall for Class 0 stayed very low → Still missing most non-diabetics.\n",
    "  * Class 1 (majority) still dominates.\n",
    "\n",
    "Remember:\n",
    "Macro vs Weighted Averages\n",
    "  * Macro avg: 0.65 (precision), 0.55 (recall) → these treat both classes equally.\n",
    "  * Weighted avg: still high because Class 1 dominates.\n",
    "\n",
    "Conclusion:\n",
    "1. Accuracy is still misleading → A 95% accuracy looks good… but it fails for Class 0\n",
    "2. Minority class recall → Model catches <12% of non-diabetics\n",
    "3. Better balance needed → Explore other balancing options\n",
    "  * Random undersampling of Class 1\n",
    "  * Random oversampling of Class 0\n",
    "  * SMOTE (Synthetic Minority Oversampling Technique)\n"
   ]
  },
  {
   "cell_type": "markdown",
   "id": "L6ggsm6BVZ8N",
   "metadata": {
    "id": "L6ggsm6BVZ8N"
   },
   "source": [
    "# Handling Imbalanced Data: Resampling Techniques\n",
    "# In this section, we’ll compare Undersampling, Oversampling, and SMOTE to improve classification for imbalanced outcomes.\n"
   ]
  },
  {
   "cell_type": "code",
   "execution_count": null,
   "id": "TNekb28XPKXA",
   "metadata": {
    "executionInfo": {
     "elapsed": 4090,
     "status": "ok",
     "timestamp": 1749181402077,
     "user": {
      "displayName": "Dennis Makau",
      "userId": "08005319466022450153"
     },
     "user_tz": 240
    },
    "id": "TNekb28XPKXA"
   },
   "outputs": [],
   "source": [
    "# Install the necessary package\n",
    "!pip install -q imbalanced-learn\n",
    "\n",
    "from imblearn.under_sampling import RandomUnderSampler\n",
    "from imblearn.over_sampling import RandomOverSampler, SMOTE\n",
    "\n",
    "from sklearn.model_selection import train_test_split\n",
    "from sklearn.ensemble import RandomForestClassifier\n",
    "from sklearn.metrics import classification_report, confusion_matrix\n",
    "import seaborn as sns\n",
    "import matplotlib.pyplot as plt\n",
    "\n"
   ]
  },
  {
   "cell_type": "code",
   "execution_count": null,
   "id": "EI-O0r4XNz5Y",
   "metadata": {
    "executionInfo": {
     "elapsed": 3,
     "status": "ok",
     "timestamp": 1749184273273,
     "user": {
      "displayName": "Dennis Makau",
      "userId": "08005319466022450153"
     },
     "user_tz": 240
    },
    "id": "EI-O0r4XNz5Y"
   },
   "outputs": [],
   "source": [
    "# Reusable evaluation function\n",
    "def evaluate_model(X_resampled, y_resampled, title):\n",
    "    X_train, X_test, y_train, y_test = train_test_split(X_resampled, y_resampled, test_size=0.2, random_state=42)\n",
    "    model = RandomForestClassifier(n_estimators=100, random_state=42)\n",
    "    model.fit(X_train, y_train)\n",
    "    y_pred = model.predict(X_test)\n",
    "\n",
    "    print(f\"\\n📊 {title} - Classification Report:\")\n",
    "    print(classification_report(y_test, y_pred))\n",
    "\n",
    "    sns.heatmap(confusion_matrix(y_test, y_pred), annot=True, fmt=\"d\", cmap=\"coolwarm\")\n",
    "    plt.title(f\"{title} - Confusion Matrix\")\n",
    "    plt.xlabel(\"Predicted\")\n",
    "    plt.ylabel(\"Actual\")\n",
    "    plt.show()\n"
   ]
  },
  {
   "cell_type": "code",
   "execution_count": null,
   "id": "I7YyhfYiWguv",
   "metadata": {
    "executionInfo": {
     "elapsed": 5,
     "status": "ok",
     "timestamp": 1749184277032,
     "user": {
      "displayName": "Dennis Makau",
      "userId": "08005319466022450153"
     },
     "user_tz": 240
    },
    "id": "I7YyhfYiWguv"
   },
   "outputs": [],
   "source": [
    "# Prepare data\n",
    "X = df.drop(\"has_diabetes\", axis=1).copy()\n",
    "y = df[\"has_diabetes\"]\n",
    "\n",
    "# Encode 'sex' column (update if you have other categorical variables)\n",
    "X[\"sex\"] = X[\"sex\"].map({\"Male\": 0, \"Female\": 1})"
   ]
  },
  {
   "cell_type": "markdown",
   "id": "VQiD3xcTVwzl",
   "metadata": {
    "id": "VQiD3xcTVwzl"
   },
   "source": [
    "1. Undersampling"
   ]
  },
  {
   "cell_type": "code",
   "execution_count": null,
   "id": "AvNPf6sOVyKo",
   "metadata": {
    "colab": {
     "base_uri": "https://localhost:8080/",
     "height": 672
    },
    "executionInfo": {
     "elapsed": 336,
     "status": "ok",
     "timestamp": 1749184280653,
     "user": {
      "displayName": "Dennis Makau",
      "userId": "08005319466022450153"
     },
     "user_tz": 240
    },
    "id": "AvNPf6sOVyKo",
    "outputId": "83bb4141-259a-4ee7-cab2-0fef5b4b7ffb"
   },
   "outputs": [],
   "source": [
    "# Random Undersampling\n",
    "rus = RandomUnderSampler(random_state=42)\n",
    "X_rus, y_rus = rus.fit_resample(X, y)\n",
    "evaluate_model(X_rus, y_rus, \"Random Undersampling\")\n"
   ]
  },
  {
   "cell_type": "markdown",
   "id": "QEksneayWqvO",
   "metadata": {
    "id": "QEksneayWqvO"
   },
   "source": [
    "2. Oversampling"
   ]
  },
  {
   "cell_type": "code",
   "execution_count": null,
   "id": "XdsOtR2NWmFx",
   "metadata": {
    "colab": {
     "base_uri": "https://localhost:8080/",
     "height": 672
    },
    "executionInfo": {
     "elapsed": 6,
     "status": "ok",
     "timestamp": 1749184285685,
     "user": {
      "displayName": "Dennis Makau",
      "userId": "08005319466022450153"
     },
     "user_tz": 240
    },
    "id": "XdsOtR2NWmFx",
    "outputId": "54fbabd7-2648-4fba-b940-b398e3cf0010"
   },
   "outputs": [],
   "source": [
    "# Random Oversampling\n",
    "ros = RandomOverSampler(random_state=42)\n",
    "X_ros, y_ros = ros.fit_resample(X, y)\n",
    "evaluate_model(X_ros, y_ros, \"Random Oversampling\")\n"
   ]
  },
  {
   "cell_type": "markdown",
   "id": "wopAQPwSXC9n",
   "metadata": {
    "id": "wopAQPwSXC9n"
   },
   "source": [
    "3. SMOTE"
   ]
  },
  {
   "cell_type": "code",
   "execution_count": null,
   "id": "eLVOIu3RXKBP",
   "metadata": {
    "colab": {
     "base_uri": "https://localhost:8080/",
     "height": 672
    },
    "executionInfo": {
     "elapsed": 493,
     "status": "ok",
     "timestamp": 1749184290432,
     "user": {
      "displayName": "Dennis Makau",
      "userId": "08005319466022450153"
     },
     "user_tz": 240
    },
    "id": "eLVOIu3RXKBP",
    "outputId": "62353f89-baff-4bce-fb77-bbd9a18b2439"
   },
   "outputs": [],
   "source": [
    "# 🔄 SMOTE\n",
    "smote = SMOTE(random_state=42)\n",
    "X_smote, y_smote = smote.fit_resample(X, y)\n",
    "evaluate_model(X_smote, y_smote, \"SMOTE (Synthetic Minority Oversampling Technique)\")\n"
   ]
  },
  {
   "cell_type": "markdown",
   "id": "KavBXjn5Xd2b",
   "metadata": {
    "id": "KavBXjn5Xd2b"
   },
   "source": [
    "# Discussion:\n",
    "1. What imbalance does to model performance\n",
    "2. How resampling can improve minority class detection\n",
    "3. Why we compare metrics beyond just accuracy"
   ]
  },
  {
   "cell_type": "markdown",
   "id": "jjxV96oTY0_m",
   "metadata": {
    "id": "jjxV96oTY0_m"
   },
   "source": [
    "Let's get the best model and interpret what we get and what it means for our data. Which was the best model?\n",
    "* Random Oversampling\n",
    "\n",
    "So we rerun the model and move save it for interpretation and potential deployment"
   ]
  },
  {
   "cell_type": "code",
   "execution_count": null,
   "id": "v0OOVpkzjeVe",
   "metadata": {
    "colab": {
     "base_uri": "https://localhost:8080/"
    },
    "executionInfo": {
     "elapsed": 54688,
     "status": "ok",
     "timestamp": 1749185459988,
     "user": {
      "displayName": "Dennis Makau",
      "userId": "08005319466022450153"
     },
     "user_tz": 240
    },
    "id": "v0OOVpkzjeVe",
    "outputId": "55e07118-4f5a-4129-ce6a-9fc1f77b890a"
   },
   "outputs": [],
   "source": [
    "from sklearn.model_selection import GridSearchCV\n",
    "\n",
    "# Define pipeline again (same preprocessor from earlier)\n",
    "clf_pipeline = Pipeline([\n",
    "    ('preprocess', preprocessor),\n",
    "    ('clf', RandomForestClassifier(random_state=42))\n",
    "])\n",
    "\n",
    "# Define hyperparameter grid to search\n",
    "param_grid = {\n",
    "    'clf__n_estimators': [100, 200],\n",
    "    'clf__max_depth': [None, 10, 20],\n",
    "    'clf__min_samples_split': [2, 5],\n",
    "    'clf__min_samples_leaf': [1, 2],\n",
    "    'clf__class_weight': [None, 'balanced']\n",
    "}\n",
    "\n",
    "# Setup GridSearchCV\n",
    "grid_search = GridSearchCV(\n",
    "    estimator=clf_pipeline,\n",
    "    param_grid=param_grid,\n",
    "    cv=3,\n",
    "    scoring='f1',  # or 'roc_auc', 'accuracy', etc.\n",
    "    verbose=1,\n",
    "    n_jobs=-1\n",
    ")\n",
    "\n",
    "# Fit the grid search\n",
    "grid_search.fit(X_train, y_train)\n",
    "\n",
    "# Best model\n",
    "best_model = grid_search.best_estimator_\n",
    "print(\"Best Parameters:\", grid_search.best_params_)\n",
    "\n",
    "# Evaluate\n",
    "from sklearn.metrics import classification_report\n",
    "y_pred = best_model.predict(X_test)\n",
    "print(\"Classification Report (Tuned Model):\")\n",
    "print(classification_report(y_test, y_pred))\n"
   ]
  },
  {
   "cell_type": "code",
   "execution_count": null,
   "id": "xNc7vvmVZmYT",
   "metadata": {
    "colab": {
     "base_uri": "https://localhost:8080/",
     "height": 79
    },
    "executionInfo": {
     "elapsed": 258,
     "status": "ok",
     "timestamp": 1749184296646,
     "user": {
      "displayName": "Dennis Makau",
      "userId": "08005319466022450153"
     },
     "user_tz": 240
    },
    "id": "xNc7vvmVZmYT",
    "outputId": "18672909-4de1-47d0-ff85-45edf074e55a"
   },
   "outputs": [],
   "source": [
    "# Re-run oversampling and store model\n",
    "ros = RandomOverSampler(random_state=42)\n",
    "X_ros, y_ros = ros.fit_resample(X, y)\n",
    "X_train_ros, X_test_ros, y_train_ros, y_test_ros = train_test_split(X_ros, y_ros, test_size=0.2, random_state=42)\n",
    "\n",
    "model_ros = RandomForestClassifier(n_estimators=100, random_state=42)\n",
    "model_ros.fit(X_train_ros, y_train_ros)\n"
   ]
  },
  {
   "cell_type": "code",
   "execution_count": null,
   "id": "ENf96LWZz1Pl",
   "metadata": {
    "colab": {
     "base_uri": "https://localhost:8080/",
     "height": 607
    },
    "executionInfo": {
     "elapsed": 210,
     "status": "ok",
     "timestamp": 1749184304447,
     "user": {
      "displayName": "Dennis Makau",
      "userId": "08005319466022450153"
     },
     "user_tz": 240
    },
    "id": "ENf96LWZz1Pl",
    "outputId": "375ab699-143a-4627-e9ab-d4b1d03e2a77"
   },
   "outputs": [],
   "source": [
    "# Feature Importance (Random Oversampling Model)\n",
    "import numpy as np\n",
    "\n",
    "feature_importances = model_ros.feature_importances_\n",
    "features = X.columns\n",
    "\n",
    "# Get top 10 features\n",
    "indices = np.argsort(feature_importances)[-10:]\n",
    "\n",
    "plt.figure(figsize=(8, 6))\n",
    "sns.barplot(x=feature_importances[indices], y=features[indices])\n",
    "plt.title(\"Top 10 Feature Importances (Random Oversampling)\")\n",
    "plt.xlabel(\"Relative Importance\")\n",
    "plt.ylabel(\"Features\")\n",
    "plt.tight_layout()\n",
    "plt.show()\n"
   ]
  },
  {
   "cell_type": "code",
   "execution_count": null,
   "id": "hxgRQotZz_Bf",
   "metadata": {
    "colab": {
     "base_uri": "https://localhost:8080/",
     "height": 34
    },
    "executionInfo": {
     "elapsed": 18,
     "status": "ok",
     "timestamp": 1749179009073,
     "user": {
      "displayName": "Dennis Makau",
      "userId": "08005319466022450153"
     },
     "user_tz": 240
    },
    "id": "hxgRQotZz_Bf",
    "outputId": "42974299-e7de-4060-8647-0b846bf06b61"
   },
   "outputs": [],
   "source": [
    "#Download the saved image to your computer (optional)\n",
    "files.download(plot_filename)"
   ]
  },
  {
   "cell_type": "markdown",
   "id": "lk24JcUVZ5j_",
   "metadata": {
    "id": "lk24JcUVZ5j_"
   },
   "source": [
    "Feature importance = how much each variable helps the model split classes correctly.\n",
    "\n",
    "Tasks:\n",
    " 1. Discuss why age, BMI, education, or income might be ranked high.\n",
    " 2.  Would these be your top predictors of diabetes? Why?"
   ]
  },
  {
   "cell_type": "code",
   "execution_count": null,
   "id": "iQIYC0j8ae6a",
   "metadata": {
    "colab": {
     "base_uri": "https://localhost:8080/",
     "height": 1000
    },
    "executionInfo": {
     "elapsed": 2584,
     "status": "error",
     "timestamp": 1749184930810,
     "user": {
      "displayName": "Dennis Makau",
      "userId": "08005319466022450153"
     },
     "user_tz": 240
    },
    "id": "iQIYC0j8ae6a",
    "outputId": "7fad26b0-0058-499e-8310-3551a939b598"
   },
   "outputs": [],
   "source": [
    "from sklearn.compose import ColumnTransformer\n",
    "from sklearn.preprocessing import OneHotEncoder, StandardScaler\n",
    "from sklearn.pipeline import Pipeline\n",
    "from sklearn.ensemble import RandomForestClassifier\n",
    "from sklearn.inspection import PartialDependenceDisplay\n",
    "from sklearn.model_selection import train_test_split\n",
    "from imblearn.over_sampling import RandomOverSampler\n",
    "import matplotlib.pyplot as plt\n",
    "\n",
    "# Step 1: Identify columns\n",
    "categorical_cols = ['sex', 'income_level', 'education_level']\n",
    "numeric_cols = ['age', 'BMI']\n",
    "all_features = categorical_cols + numeric_cols\n",
    "\n",
    "# Subset the data\n",
    "X_subset = X[all_features]\n",
    "y_subset = y.copy()\n",
    "\n",
    "# Step 2: Encode + scale via ColumnTransformer\n",
    "preprocessor = ColumnTransformer([\n",
    "    (\"cat\", OneHotEncoder(handle_unknown='ignore'), categorical_cols),\n",
    "    (\"num\", StandardScaler(), numeric_cols)\n",
    "])\n",
    "\n",
    "# Step 3: Wrap in pipeline\n",
    "clf_pipeline = Pipeline([\n",
    "    ('preprocess', preprocessor),\n",
    "    ('clf', RandomForestClassifier(n_estimators=100, random_state=42))\n",
    "])\n",
    "\n",
    "# Step 4: Resample and split\n",
    "ros = RandomOverSampler(random_state=42)\n",
    "X_ros, y_ros = ros.fit_resample(X_subset, y_subset)\n",
    "X_train, X_test, y_train, y_test = train_test_split(X_ros, y_ros, test_size=0.2, random_state=42)\n",
    "\n",
    "# Step 5: Fit model\n",
    "clf_pipeline.fit(X_train, y_train)\n",
    "\n",
    "# Step 6: Plot partial dependence (now works with pipeline!)\n",
    "features_for_plot = ['age', 'BMI', 'sex', 'income_level', 'education_level']\n",
    "\n",
    "for feat in features_for_plot:\n",
    "    fig, ax = plt.subplots(figsize=(6, 4))\n",
    "    PartialDependenceDisplay.from_estimator(\n",
    "        clf_pipeline, X_test, [feat],\n",
    "        grid_resolution=50, ax=ax\n",
    "    )\n",
    "    plt.title(f\"PDP: {feat}\")\n",
    "    plt.tight_layout()\n",
    "    plt.show()\n"
   ]
  },
  {
   "cell_type": "code",
   "execution_count": null,
   "id": "_dInxFBJhsdr",
   "metadata": {
    "colab": {
     "base_uri": "https://localhost:8080/",
     "height": 1000
    },
    "executionInfo": {
     "elapsed": 1727,
     "status": "error",
     "timestamp": 1749184601770,
     "user": {
      "displayName": "Dennis Makau",
      "userId": "08005319466022450153"
     },
     "user_tz": 240
    },
    "id": "_dInxFBJhsdr",
    "outputId": "9f68f45e-9b7c-4d35-d60a-689e13ce285f"
   },
   "outputs": [],
   "source": [
    "from sklearn.inspection import PartialDependenceDisplay\n",
    "import matplotlib.pyplot as plt\n",
    "\n",
    "for feature in top5_features:\n",
    "    fig, ax = plt.subplots(figsize=(6, 4))\n",
    "    PartialDependenceDisplay.from_estimator(\n",
    "        model_ros, X_test_ros, [feature],\n",
    "        grid_resolution=50, ax=ax\n",
    "    )\n",
    "    plt.title(f\"Partial Dependence of {feature}\")\n",
    "    plt.tight_layout()\n",
    "    plt.show()\n"
   ]
  },
  {
   "cell_type": "markdown",
   "id": "wscv3aMAz_gC",
   "metadata": {
    "id": "wscv3aMAz_gC"
   },
   "source": [
    "# Wrap-Up\n",
    "\n",
    "1. What did we learn about imbalance?\n",
    "2. Why isn’t accuracy enough?\n",
    "3. Which method worked best for our case?\n",
    "4. Which variable is most important in predicting risk of diabetes?\n",
    "\n",
    "Challenge\n",
    "* Compare the interpretatin to a different classifier (e.g., LogisticRegression).\n",
    "* What happens when you increase the number of trees?\n",
    "\n",
    "\n"
   ]
  }
 ],
 "metadata": {
  "colab": {
   "provenance": []
  },
  "kernelspec": {
   "display_name": "Python 3",
   "name": "python3"
  },
  "language_info": {
   "name": "python"
  }
 },
 "nbformat": 4,
 "nbformat_minor": 5
}
